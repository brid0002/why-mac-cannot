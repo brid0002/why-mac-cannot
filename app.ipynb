{
 "cells": [
  {
   "cell_type": "code",
   "execution_count": null,
   "id": "c2a57a2e",
   "metadata": {},
   "outputs": [
    {
     "name": "stdout",
     "output_type": "stream",
     "text": [
      " * Serving Flask app \"__main__\" (lazy loading)\n",
      " * Environment: production\n",
      "\u001b[31m   WARNING: This is a development server. Do not use it in a production deployment.\u001b[0m\n",
      "\u001b[2m   Use a production WSGI server instead.\u001b[0m\n",
      " * Debug mode: off\n"
     ]
    },
    {
     "name": "stderr",
     "output_type": "stream",
     "text": [
      " * Running on http://127.0.0.1:5000/ (Press CTRL+C to quit)\n",
      "127.0.0.1 - - [08/Feb/2024 16:26:18] \"GET / HTTP/1.1\" 200 -\n",
      "127.0.0.1 - - [08/Feb/2024 16:26:18] \"GET /favicon.ico HTTP/1.1\" 404 -\n",
      "127.0.0.1 - - [08/Feb/2024 16:27:11] \"POST / HTTP/1.1\" 200 -\n",
      "127.0.0.1 - - [08/Feb/2024 16:27:24] \"POST / HTTP/1.1\" 200 -\n",
      "127.0.0.1 - - [08/Feb/2024 16:30:29] \"POST / HTTP/1.1\" 200 -\n",
      "127.0.0.1 - - [08/Feb/2024 16:30:41] \"POST / HTTP/1.1\" 200 -\n",
      "127.0.0.1 - - [08/Feb/2024 16:50:15] \"GET / HTTP/1.1\" 200 -\n",
      "127.0.0.1 - - [08/Feb/2024 16:50:18] \"POST / HTTP/1.1\" 200 -\n"
     ]
    }
   ],
   "source": [
    "from flask import Flask,request,render_template\n",
    "from textblob import TextBlob\n",
    "app = Flask(__name__)\n",
    "@app.route(\"/\",methods=[\"GET\",\"POST\"])\n",
    "def index():\n",
    "    return(render_template(\"index.html\"))\n",
    "@app.route(\"/result\",methods=[\"GET\",\"POST\"])\n",
    "def result():\n",
    "    input = requestform.get(\"input\")\n",
    "    result = TextBlob(input).sentiment\n",
    "    return(render_template(\"result.html\",result=result))\n",
    "           \n",
    "@app.route(\"/end\",methods=[\"GET\",\"POST\"])\n",
    "def end():\n",
    "    return(render_template(\"end.html\"))\n",
    "    \n",
    "if __name__ == \"__main__\":\n",
    "    app.run()"
   ]
  },
  {
   "cell_type": "code",
   "execution_count": null,
   "id": "10e0ad6a",
   "metadata": {},
   "outputs": [],
   "source": []
  }
 ],
 "metadata": {
  "kernelspec": {
   "display_name": "Python 3 (ipykernel)",
   "language": "python",
   "name": "python3"
  },
  "language_info": {
   "codemirror_mode": {
    "name": "ipython",
    "version": 3
   },
   "file_extension": ".py",
   "mimetype": "text/x-python",
   "name": "python",
   "nbconvert_exporter": "python",
   "pygments_lexer": "ipython3",
   "version": "3.9.7"
  }
 },
 "nbformat": 4,
 "nbformat_minor": 5
}
